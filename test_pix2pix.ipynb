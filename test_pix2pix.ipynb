{
 "cells": [
  {
   "cell_type": "code",
   "execution_count": 1,
   "metadata": {},
   "outputs": [],
   "source": [
    "import glob\n",
    "import os\n",
    "import torch\n",
    "from PIL import Image\n",
    "from torchvision import transforms\n",
    "from tqdm import tqdm\n",
    "from models.generators import CycleGANGenerator as Generator"
   ]
  },
  {
   "cell_type": "code",
   "execution_count": 2,
   "metadata": {},
   "outputs": [],
   "source": [
    "def tensor_to_pil(tensor):\n",
    "    to_pil = transforms.ToPILImage()\n",
    "    image = tensor.to(\"cpu\").clone().detach()\n",
    "    image = image.squeeze()\n",
    "    return to_pil(image)"
   ]
  },
  {
   "cell_type": "code",
   "execution_count": 3,
   "metadata": {},
   "outputs": [
    {
     "data": {
      "text/plain": [
       "43067"
      ]
     },
     "execution_count": 3,
     "metadata": {},
     "output_type": "execute_result"
    }
   ],
   "source": [
    "source = glob.glob(\"../dataset/geinou_256/all/*.png\")\n",
    "len(source)"
   ]
  },
  {
   "cell_type": "code",
   "execution_count": 4,
   "metadata": {},
   "outputs": [],
   "source": [
    "t = transforms.Compose([transforms.Grayscale(num_output_channels=3),transforms.ToTensor()\n",
    "                       ])"
   ]
  },
  {
   "cell_type": "code",
   "execution_count": 5,
   "metadata": {},
   "outputs": [
    {
     "name": "stdout",
     "output_type": "stream",
     "text": [
      " dataloaders   losses\t\t    '<Plug>_'\t\t  train_pix2pix.ipynb\n",
      " datasets      models\t\t     test_pix2pix.ipynb\n",
      " logs\t       network_check.ipynb   trainers\n"
     ]
    }
   ],
   "source": [
    "!ls"
   ]
  },
  {
   "cell_type": "code",
   "execution_count": 6,
   "metadata": {},
   "outputs": [
    {
     "data": {
      "text/plain": [
       "CycleGANGenerator(\n",
       "  (model): Sequential(\n",
       "    (0): ReflectionPad2d((3, 3, 3, 3))\n",
       "    (1): Conv2d(3, 64, kernel_size=(7, 7), stride=(1, 1))\n",
       "    (2): LeakyReLU(negative_slope=0.01)\n",
       "    (3): Conv2d(64, 128, kernel_size=(3, 3), stride=(2, 2), padding=(1, 1))\n",
       "    (4): BatchNorm2d(128, eps=1e-05, momentum=0.1, affine=True, track_running_stats=True)\n",
       "    (5): LeakyReLU(negative_slope=0.01)\n",
       "    (6): Dropout(p=0.2, inplace=False)\n",
       "    (7): Conv2d(128, 256, kernel_size=(3, 3), stride=(2, 2), padding=(1, 1))\n",
       "    (8): BatchNorm2d(256, eps=1e-05, momentum=0.1, affine=True, track_running_stats=True)\n",
       "    (9): LeakyReLU(negative_slope=0.01)\n",
       "    (10): ResNetBlock(\n",
       "      (model): Sequential(\n",
       "        (0): ReflectionPad2d((1, 1, 1, 1))\n",
       "        (1): Conv2d(256, 256, kernel_size=(3, 3), stride=(1, 1))\n",
       "        (2): LeakyReLU(negative_slope=0.01)\n",
       "        (3): ReflectionPad2d((1, 1, 1, 1))\n",
       "        (4): Conv2d(256, 256, kernel_size=(3, 3), stride=(1, 1))\n",
       "        (5): BatchNorm2d(256, eps=1e-05, momentum=0.1, affine=True, track_running_stats=True)\n",
       "      )\n",
       "    )\n",
       "    (11): ResNetBlock(\n",
       "      (model): Sequential(\n",
       "        (0): ReflectionPad2d((1, 1, 1, 1))\n",
       "        (1): Conv2d(256, 256, kernel_size=(3, 3), stride=(1, 1))\n",
       "        (2): LeakyReLU(negative_slope=0.01)\n",
       "        (3): ReflectionPad2d((1, 1, 1, 1))\n",
       "        (4): Conv2d(256, 256, kernel_size=(3, 3), stride=(1, 1))\n",
       "        (5): BatchNorm2d(256, eps=1e-05, momentum=0.1, affine=True, track_running_stats=True)\n",
       "      )\n",
       "    )\n",
       "    (12): ResNetBlock(\n",
       "      (model): Sequential(\n",
       "        (0): ReflectionPad2d((1, 1, 1, 1))\n",
       "        (1): Conv2d(256, 256, kernel_size=(3, 3), stride=(1, 1))\n",
       "        (2): LeakyReLU(negative_slope=0.01)\n",
       "        (3): ReflectionPad2d((1, 1, 1, 1))\n",
       "        (4): Conv2d(256, 256, kernel_size=(3, 3), stride=(1, 1))\n",
       "        (5): BatchNorm2d(256, eps=1e-05, momentum=0.1, affine=True, track_running_stats=True)\n",
       "      )\n",
       "    )\n",
       "    (13): ResNetBlock(\n",
       "      (model): Sequential(\n",
       "        (0): ReflectionPad2d((1, 1, 1, 1))\n",
       "        (1): Conv2d(256, 256, kernel_size=(3, 3), stride=(1, 1))\n",
       "        (2): LeakyReLU(negative_slope=0.01)\n",
       "        (3): ReflectionPad2d((1, 1, 1, 1))\n",
       "        (4): Conv2d(256, 256, kernel_size=(3, 3), stride=(1, 1))\n",
       "        (5): BatchNorm2d(256, eps=1e-05, momentum=0.1, affine=True, track_running_stats=True)\n",
       "      )\n",
       "    )\n",
       "    (14): ResNetBlock(\n",
       "      (model): Sequential(\n",
       "        (0): ReflectionPad2d((1, 1, 1, 1))\n",
       "        (1): Conv2d(256, 256, kernel_size=(3, 3), stride=(1, 1))\n",
       "        (2): LeakyReLU(negative_slope=0.01)\n",
       "        (3): ReflectionPad2d((1, 1, 1, 1))\n",
       "        (4): Conv2d(256, 256, kernel_size=(3, 3), stride=(1, 1))\n",
       "        (5): BatchNorm2d(256, eps=1e-05, momentum=0.1, affine=True, track_running_stats=True)\n",
       "      )\n",
       "    )\n",
       "    (15): ResNetBlock(\n",
       "      (model): Sequential(\n",
       "        (0): ReflectionPad2d((1, 1, 1, 1))\n",
       "        (1): Conv2d(256, 256, kernel_size=(3, 3), stride=(1, 1))\n",
       "        (2): LeakyReLU(negative_slope=0.01)\n",
       "        (3): ReflectionPad2d((1, 1, 1, 1))\n",
       "        (4): Conv2d(256, 256, kernel_size=(3, 3), stride=(1, 1))\n",
       "        (5): BatchNorm2d(256, eps=1e-05, momentum=0.1, affine=True, track_running_stats=True)\n",
       "      )\n",
       "    )\n",
       "    (16): SelfAttention2D(\n",
       "      (query): Conv2d(256, 32, kernel_size=(1, 1), stride=(1, 1))\n",
       "      (key): Conv2d(256, 32, kernel_size=(1, 1), stride=(1, 1))\n",
       "      (value): Conv2d(256, 256, kernel_size=(1, 1), stride=(1, 1))\n",
       "    )\n",
       "    (17): ConvTranspose2d(256, 128, kernel_size=(3, 3), stride=(2, 2), padding=(1, 1), output_padding=(1, 1))\n",
       "    (18): LeakyReLU(negative_slope=0.01)\n",
       "    (19): Dropout(p=0.2, inplace=False)\n",
       "    (20): ConvTranspose2d(128, 64, kernel_size=(3, 3), stride=(2, 2), padding=(1, 1), output_padding=(1, 1))\n",
       "    (21): LeakyReLU(negative_slope=0.01)\n",
       "    (22): ReflectionPad2d((3, 3, 3, 3))\n",
       "    (23): Conv2d(64, 3, kernel_size=(7, 7), stride=(1, 1))\n",
       "    (24): Tanh()\n",
       "  )\n",
       ")"
      ]
     },
     "execution_count": 6,
     "metadata": {},
     "output_type": "execute_result"
    }
   ],
   "source": [
    "model = Generator(use_dropout=True)\n",
    "model.load('face2sketch_percept_0.5', 'latest', './logs/face2sketch_percept_0.5')\n",
    "model.cuda()\n",
    "model.eval()"
   ]
  },
  {
   "cell_type": "code",
   "execution_count": 13,
   "metadata": {},
   "outputs": [
    {
     "name": "stderr",
     "output_type": "stream",
     "text": [
      "100%|██████████| 43067/43067 [1:10:35<00:00, 10.17it/s]\n"
     ]
    }
   ],
   "source": [
    "for s in tqdm(source):\n",
    "    image = Image.open(s)\n",
    "    input = t(image)\n",
    "    output = model(input[None, :, :].cuda())\n",
    "    result = tensor_to_pil(output)\n",
    "    result.save(s.replace('geinou_256/all/','geinou_256/sketch/'))"
   ]
  }
 ],
 "metadata": {
  "kernelspec": {
   "display_name": "Python 3",
   "language": "python",
   "name": "python3"
  },
  "language_info": {
   "codemirror_mode": {
    "name": "ipython",
    "version": 3
   },
   "file_extension": ".py",
   "mimetype": "text/x-python",
   "name": "python",
   "nbconvert_exporter": "python",
   "pygments_lexer": "ipython3",
   "version": "3.7.6"
  }
 },
 "nbformat": 4,
 "nbformat_minor": 4
}
