{
 "cells": [
  {
   "cell_type": "code",
   "execution_count": 1,
   "metadata": {},
   "outputs": [],
   "source": [
    "import torch\n",
    "\n",
    "# Dataset imports\n",
    "from dataloaders.dynamic_edits import DynamicEdits\n",
    "from PIL import Image\n",
    "from torchvision import transforms\n",
    "from transforms.noisify import JpegCompress, Mozaic\n",
    "\n",
    "# Stuff for displaying progress\n",
    "import io\n",
    "import datetime\n",
    "import random\n",
    "import ipywidgets as widgets\n",
    "from IPython.display import display\n",
    "from tqdm.notebook import tqdm\n",
    "\n",
    "# Trainer\n",
    "import trainers.image_improvement\n",
    "import trainers.pix2pix\n",
    "import importlib\n"
   ]
  },
  {
   "cell_type": "code",
   "execution_count": 2,
   "metadata": {},
   "outputs": [],
   "source": [
    "def tensor_to_pil(tensor):\n",
    "    to_pil = transforms.ToPILImage()\n",
    "    image = tensor.to(\"cpu\").clone().detach()\n",
    "    image = image.squeeze()\n",
    "    return to_pil(image)"
   ]
  },
  {
   "cell_type": "code",
   "execution_count": 3,
   "metadata": {},
   "outputs": [],
   "source": [
    "def image_to_byte_array(image:Image):\n",
    "    # Converts a PIL image to byteArray\n",
    "    imgByteArr = io.BytesIO()\n",
    "    image.save(imgByteArr, format=\"png\")\n",
    "    imgByteArr = imgByteArr.getvalue()\n",
    "    return imgByteArr"
   ]
  },
  {
   "cell_type": "code",
   "execution_count": 4,
   "metadata": {},
   "outputs": [],
   "source": [
    "def create_out_chain(renders, image_width, image_height):\n",
    "    image_count = len(renders)\n",
    "    out_chain = Image.new('RGB', (image_width, image_height))\n",
    "    widths = [x.width for x in renders]\n",
    "    for i,im in enumerate(renders):\n",
    "        w = 0 if i==0 else sum(widths[:i])\n",
    "        out_chain.paste(im, (w, 0))\n",
    "    out_chain = image_to_byte_array(out_chain)\n",
    "    return out_chain"
   ]
  },
  {
   "cell_type": "code",
   "execution_count": 5,
   "metadata": {},
   "outputs": [
    {
     "name": "stdout",
     "output_type": "stream",
     "text": [
      "Mon Sep 21 20:26:45 2020       \n",
      "+-----------------------------------------------------------------------------+\n",
      "| NVIDIA-SMI 440.95.01    Driver Version: 440.95.01    CUDA Version: 10.2     |\n",
      "|-------------------------------+----------------------+----------------------+\n",
      "| GPU  Name        Persistence-M| Bus-Id        Disp.A | Volatile Uncorr. ECC |\n",
      "| Fan  Temp  Perf  Pwr:Usage/Cap|         Memory-Usage | GPU-Util  Compute M. |\n",
      "|===============================+======================+======================|\n",
      "|   0  GeForce GTX 105...  On   | 00000000:01:00.0  On |                  N/A |\n",
      "| 30%   41C    P8    N/A /  75W |      1MiB /  4038MiB |      0%      Default |\n",
      "+-------------------------------+----------------------+----------------------+\n",
      "                                                                               \n",
      "+-----------------------------------------------------------------------------+\n",
      "| Processes:                                                       GPU Memory |\n",
      "|  GPU       PID   Type   Process name                             Usage      |\n",
      "|=============================================================================|\n",
      "|  No running processes found                                                 |\n",
      "+-----------------------------------------------------------------------------+\n"
     ]
    }
   ],
   "source": [
    "!nvidia-smi"
   ]
  },
  {
   "cell_type": "code",
   "execution_count": 6,
   "metadata": {},
   "outputs": [],
   "source": [
    "model_name = 'fixJpg_percept'\n",
    "bsize = 4\n",
    "epoch = 17 #epoch to start\n",
    "n_epochs = 100 #Epoch to end\n",
    "html_at = 10\n",
    "save_epoch_freq = 10\n",
    "use_latest = True"
   ]
  },
  {
   "cell_type": "code",
   "execution_count": 7,
   "metadata": {},
   "outputs": [],
   "source": [
    "source_t = transforms.Compose([transforms.RandomCrop(256, pad_if_needed=True)])\n",
    "target_t = transforms.Compose([Mozaic(), JpegCompress(5,20)])"
   ]
  },
  {
   "cell_type": "code",
   "execution_count": 8,
   "metadata": {},
   "outputs": [],
   "source": [
    "train_data = DynamicEdits(root='./datasets/hires_fem', transform=source_t, target_transform=target_t)\n",
    "train_loader = torch.utils.data.DataLoader(train_data, batch_size=bsize, shuffle=True, num_workers=2)"
   ]
  },
  {
   "cell_type": "code",
   "execution_count": 9,
   "metadata": {},
   "outputs": [],
   "source": [
    "out_chain = create_out_chain(renders=[tensor_to_pil(x) for x in train_data[0]], image_width=256, image_height=256)"
   ]
  },
  {
   "cell_type": "code",
   "execution_count": 10,
   "metadata": {},
   "outputs": [
    {
     "data": {
      "application/vnd.jupyter.widget-view+json": {
       "model_id": "1b51e3eb561b43b9974ad97d469f64a8",
       "version_major": 2,
       "version_minor": 0
      },
      "text/plain": [
       "VBox(children=(Image(value=b'\\x89PNG\\r\\n\\x1a\\n\\x00\\x00\\x00\\rIHDR\\x00\\x00\\x01\\x00\\x00\\x00\\x01\\x00\\x08\\x02\\x00\\x…"
      ]
     },
     "metadata": {},
     "output_type": "display_data"
    }
   ],
   "source": [
    "image_container = widgets.Image(\n",
    "    value=out_chain,\n",
    "    format='png',\n",
    "    width=256*3,\n",
    "    height=256,\n",
    ")\n",
    "\n",
    "log_out = widgets.Label(\n",
    "    value='hello',\n",
    ")\n",
    "w = widgets.VBox([image_container, log_out])\n",
    "display(w)"
   ]
  },
  {
   "cell_type": "code",
   "execution_count": 12,
   "metadata": {},
   "outputs": [],
   "source": [
    "# create the model\n",
    "model = trainers.image_improvement.ImageImprovementTrainer(model_name=model_name, epoch=epoch, use_latest=use_latest)"
   ]
  },
  {
   "cell_type": "code",
   "execution_count": null,
   "metadata": {},
   "outputs": [
    {
     "data": {
      "application/vnd.jupyter.widget-view+json": {
       "model_id": "5bb1cf9e269f4487998c90fe7fa515bd",
       "version_major": 2,
       "version_minor": 0
      },
      "text/plain": [
       "HBox(children=(FloatProgress(value=0.0, max=10.0), HTML(value='')))"
      ]
     },
     "metadata": {},
     "output_type": "display_data"
    }
   ],
   "source": [
    "# Training loop\n",
    "it = 1\n",
    "for ep in range(epoch,n_epochs):\n",
    "    for batch_idx, data in tqdm(enumerate(train_loader), total=html_at):\n",
    "        it += 1\n",
    "        losses, resulting_image = model.step(inputs=data)\n",
    "        out_txt = [ f\"[{ep:05d}/{n_epochs:05d}][{batch_idx:05d}/{len(train_loader):05d}]\"]\n",
    "        for k,v in losses:\n",
    "            out_txt.append(f\"{k}:{v:.4f}\")\n",
    "        message = \" \".join(out_txt)\n",
    "        log_out.value=message\n",
    "\n",
    "        if (it % html_at) == 0 or (ep==0 and batch_idx==0):\n",
    "            model.save('latest')\n",
    "            renders = [tensor_to_pil(x) for x in [data[0][0], resulting_image[0], data[1][0]]]\n",
    "            image_width = 256*3\n",
    "            image_height = 256\n",
    "            c = create_out_chain(renders, image_width, image_height)\n",
    "            image_container.value = c\n",
    "            image_container.width = image_width\n",
    "            image_container.height = image_height\n",
    "\n",
    "    if ep % save_epoch_freq == 0:\n",
    "        model.save('%d' % ep)\n",
    "        log_out.value=f\"saved model(s) {ep}\"\n",
    "\n",
    "    now=datetime.datetime.now().strftime(\"%Y/%m/%d %H:%M:%S\")\n",
    "    s = f\"epoch {ep} completed. {now}\"\n",
    "    log_out.value = s\n",
    "    # End single epoch"
   ]
  },
  {
   "cell_type": "code",
   "execution_count": null,
   "metadata": {},
   "outputs": [],
   "source": []
  }
 ],
 "metadata": {
  "kernelspec": {
   "display_name": "Python 3",
   "language": "python",
   "name": "python3"
  },
  "language_info": {
   "codemirror_mode": {
    "name": "ipython",
    "version": 3
   },
   "file_extension": ".py",
   "mimetype": "text/x-python",
   "name": "python",
   "nbconvert_exporter": "python",
   "pygments_lexer": "ipython3",
   "version": "3.7.6"
  }
 },
 "nbformat": 4,
 "nbformat_minor": 4
}
